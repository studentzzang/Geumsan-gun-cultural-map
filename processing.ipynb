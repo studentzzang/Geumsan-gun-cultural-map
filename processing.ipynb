{
 "cells": [
  {
   "cell_type": "code",
   "execution_count": 165,
   "metadata": {},
   "outputs": [],
   "source": [
    "import pandas as pd\n",
    "import matplotlib.pyplot as plt\n",
    "import src\n",
    "from matplotlib import font_manager, rc\n",
    "\n",
    "colors = src.colors\n",
    "font_path = \"C:/Windows/Fonts/NGULIM.TTF\"\n",
    "\n",
    "font = font_manager.FontProperties(fname=font_path).get_name()\n",
    "\n",
    "rc('font', family=font)"
   ]
  },
  {
   "cell_type": "markdown",
   "metadata": {},
   "source": [
    "## 시대 데이터 더 좁은 범위로 묶기"
   ]
  },
  {
   "cell_type": "code",
   "execution_count": 166,
   "metadata": {},
   "outputs": [
    {
     "data": {
      "text/plain": [
       "array(['조선시대', '조선 중기', '신라시대', '정보 미제공', '조선시대 후기', '고려말∼조선시대', '조선후기',\n",
       "       '조선전기', '조선시대 초기', '조선시대 말기', '백제시대', '고려시대 추정', '조선말기',\n",
       "       '현종 6년(1840', '조선 고종 15년(', '1976년', '1961년', '1922년', '고려시대',\n",
       "       '청동기시대', '삼국시대', '건립년도:1969년', '건립년도 : 1927'], dtype=object)"
      ]
     },
     "execution_count": 166,
     "metadata": {},
     "output_type": "execute_result"
    }
   ],
   "source": [
    "df = pd.read_csv('./data.csv')\n",
    "df['시대'].unique()"
   ]
  },
  {
   "cell_type": "code",
   "execution_count": 167,
   "metadata": {},
   "outputs": [
    {
     "data": {
      "text/html": [
       "<div>\n",
       "<style scoped>\n",
       "    .dataframe tbody tr th:only-of-type {\n",
       "        vertical-align: middle;\n",
       "    }\n",
       "\n",
       "    .dataframe tbody tr th {\n",
       "        vertical-align: top;\n",
       "    }\n",
       "\n",
       "    .dataframe thead th {\n",
       "        text-align: right;\n",
       "    }\n",
       "</style>\n",
       "<table border=\"1\" class=\"dataframe\">\n",
       "  <thead>\n",
       "    <tr style=\"text-align: right;\">\n",
       "      <th></th>\n",
       "      <th>구분</th>\n",
       "      <th>문화재명</th>\n",
       "      <th>소재지</th>\n",
       "      <th>위도</th>\n",
       "      <th>경도</th>\n",
       "      <th>지정번호</th>\n",
       "      <th>시대</th>\n",
       "      <th>지정일</th>\n",
       "      <th>면적</th>\n",
       "      <th>소개</th>\n",
       "      <th>데이터기준일자</th>\n",
       "    </tr>\n",
       "  </thead>\n",
       "  <tbody>\n",
       "    <tr>\n",
       "      <th>2</th>\n",
       "      <td>국가지정문화재</td>\n",
       "      <td>금산 요광리 은행나무</td>\n",
       "      <td>충청남도 금산군 추부면 요광리 329-12</td>\n",
       "      <td>36.21109</td>\n",
       "      <td>127.493121</td>\n",
       "      <td>천연기념물 제84호</td>\n",
       "      <td>신라시대</td>\n",
       "      <td>1962-12-07</td>\n",
       "      <td>1본, 높이 20.5m, 둘레 15.5m, 밑둥둘레 12.4m</td>\n",
       "      <td>이 은행나무는 신라 때부터 자연정자(自然亭子)를 이루었다고 전해지므로, 나무의 나이...</td>\n",
       "      <td>2024-03-31</td>\n",
       "    </tr>\n",
       "  </tbody>\n",
       "</table>\n",
       "</div>"
      ],
      "text/plain": [
       "        구분         문화재명                      소재지        위도          경도  \\\n",
       "2  국가지정문화재  금산 요광리 은행나무  충청남도 금산군 추부면 요광리 329-12  36.21109  127.493121   \n",
       "\n",
       "         지정번호    시대         지정일                                  면적  \\\n",
       "2  천연기념물 제84호  신라시대  1962-12-07  1본, 높이 20.5m, 둘레 15.5m, 밑둥둘레 12.4m   \n",
       "\n",
       "                                                  소개     데이터기준일자  \n",
       "2  이 은행나무는 신라 때부터 자연정자(自然亭子)를 이루었다고 전해지므로, 나무의 나이...  2024-03-31  "
      ]
     },
     "execution_count": 167,
     "metadata": {},
     "output_type": "execute_result"
    }
   ],
   "source": [
    "df[df['시대']=='신라시대']"
   ]
  },
  {
   "cell_type": "code",
   "execution_count": 168,
   "metadata": {},
   "outputs": [],
   "source": [
    "df.loc[df['시대'].str.contains('조선'), '시대'] = '조선시대'\n",
    "df.loc[df['시대'].str.contains('고려'), '시대'] = '고려시대'\n",
    "df.loc[df['시대'] == '현종 6년(1840', '시대'] = '조선시대'\n",
    "df.loc[(df['시대'] == '1922년') | (df['시대'] == '건립년도 : 1927'), '시대'] ='대한민국 임시정부'\n",
    "df.loc[(df['시대'] == '1976년') | (df['시대'] == '1961년') | (df['시대'] == '건립년도:1969년'), '시대'] = '현대'\n",
    "df.loc[(df['시대'] =='신라시대') | (df['시대'] == '백제시대'), '시대'] = '삼국시대'"
   ]
  },
  {
   "cell_type": "code",
   "execution_count": 169,
   "metadata": {},
   "outputs": [
    {
     "data": {
      "text/plain": [
       "array(['조선시대', '삼국시대', '정보 미제공', '고려시대', '현대', '대한민국 임시정부', '청동기시대'],\n",
       "      dtype=object)"
      ]
     },
     "execution_count": 169,
     "metadata": {},
     "output_type": "execute_result"
    }
   ],
   "source": [
    "df['시대'].unique()"
   ]
  },
  {
   "cell_type": "code",
   "execution_count": 170,
   "metadata": {},
   "outputs": [
    {
     "name": "stdout",
     "output_type": "stream",
     "text": [
      "[18, 3, 39, 4, 3, 2, 2]\n"
     ]
    },
    {
     "name": "stderr",
     "output_type": "stream",
     "text": [
      "C:\\Users\\daega\\AppData\\Local\\Temp\\ipykernel_18732\\3357565221.py:4: FutureWarning: Calling int on a single element Series is deprecated and will raise a TypeError in the future. Use int(ser.iloc[0]) instead\n",
      "  e = int(df.loc[df['시대']==i, '시대'].value_counts())\n",
      "C:\\Users\\daega\\AppData\\Local\\Temp\\ipykernel_18732\\3357565221.py:4: FutureWarning: Calling int on a single element Series is deprecated and will raise a TypeError in the future. Use int(ser.iloc[0]) instead\n",
      "  e = int(df.loc[df['시대']==i, '시대'].value_counts())\n",
      "C:\\Users\\daega\\AppData\\Local\\Temp\\ipykernel_18732\\3357565221.py:4: FutureWarning: Calling int on a single element Series is deprecated and will raise a TypeError in the future. Use int(ser.iloc[0]) instead\n",
      "  e = int(df.loc[df['시대']==i, '시대'].value_counts())\n",
      "C:\\Users\\daega\\AppData\\Local\\Temp\\ipykernel_18732\\3357565221.py:4: FutureWarning: Calling int on a single element Series is deprecated and will raise a TypeError in the future. Use int(ser.iloc[0]) instead\n",
      "  e = int(df.loc[df['시대']==i, '시대'].value_counts())\n",
      "C:\\Users\\daega\\AppData\\Local\\Temp\\ipykernel_18732\\3357565221.py:4: FutureWarning: Calling int on a single element Series is deprecated and will raise a TypeError in the future. Use int(ser.iloc[0]) instead\n",
      "  e = int(df.loc[df['시대']==i, '시대'].value_counts())\n",
      "C:\\Users\\daega\\AppData\\Local\\Temp\\ipykernel_18732\\3357565221.py:4: FutureWarning: Calling int on a single element Series is deprecated and will raise a TypeError in the future. Use int(ser.iloc[0]) instead\n",
      "  e = int(df.loc[df['시대']==i, '시대'].value_counts())\n",
      "C:\\Users\\daega\\AppData\\Local\\Temp\\ipykernel_18732\\3357565221.py:4: FutureWarning: Calling int on a single element Series is deprecated and will raise a TypeError in the future. Use int(ser.iloc[0]) instead\n",
      "  e = int(df.loc[df['시대']==i, '시대'].value_counts())\n"
     ]
    }
   ],
   "source": [
    "era_counts = list()\n",
    "\n",
    "for i in df['시대'].unique():\n",
    "    e = int(df.loc[df['시대']==i, '시대'].value_counts())\n",
    "    era_counts.append(e)\n",
    "print(era_counts)"
   ]
  },
  {
   "cell_type": "code",
   "execution_count": 171,
   "metadata": {},
   "outputs": [
    {
     "name": "stderr",
     "output_type": "stream",
     "text": [
      "No artists with labels found to put in legend.  Note that artists whose label start with an underscore are ignored when legend() is called with no argument.\n"
     ]
    },
    {
     "data": {
      "image/png": "[encoded data removed]",
      "text/plain": [
       "<Figure size 1500x700 with 1 Axes>"
      ]
     },
     "metadata": {},
     "output_type": "display_data"
    }
   ],
   "source": [
    "plt.figure(figsize=(15,7))\n",
    "\n",
    "plt.title('금산군 시대별 문화재 개수')\n",
    "plt.legend()\n",
    "plt.bar(df['시대'].unique(),  era_counts, color=colors)\n",
    "\n",
    "plt.show()"
   ]
  },
  {
   "cell_type": "code",
   "execution_count": 172,
   "metadata": {},
   "outputs": [],
   "source": [
    "df.to_csv('./datas/processed.csv')"
   ]
  }
 ],
 "metadata": {
  "kernelspec": {
   "display_name": "Python 3",
   "language": "python",
   "name": "python3"
  },
  "language_info": {
   "codemirror_mode": {
    "name": "ipython",
    "version": 3
   },
   "file_extension": ".py",
   "mimetype": "text/x-python",
   "name": "python",
   "nbconvert_exporter": "python",
   "pygments_lexer": "ipython3",
   "version": "3.12.2"
  }
 },
 "nbformat": 4,
 "nbformat_minor": 2
}
